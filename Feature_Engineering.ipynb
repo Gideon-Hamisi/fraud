{
 "cells": [
  {
   "cell_type": "code",
   "execution_count": 1,
   "id": "81a8a53d-130c-4dd1-9130-01d8eaa65d50",
   "metadata": {},
   "outputs": [],
   "source": [
    "import pandas as pd\n",
    "import numpy as np"
   ]
  },
  {
   "cell_type": "code",
   "execution_count": 2,
   "id": "a08fd0ed-82c9-498c-bd9d-502101285729",
   "metadata": {},
   "outputs": [
    {
     "name": "stdout",
     "output_type": "stream",
     "text": [
      "Dataset loaded. Shape: (1000, 8)\n"
     ]
    }
   ],
   "source": [
    "# Load the dataset\n",
    "df = pd.read_csv('mobile_money_transactions.csv')\n",
    "df['Timestamp'] = pd.to_datetime(df['Timestamp'])  # Ensure Timestamp is datetime type\n",
    "print(\"Dataset loaded. Shape:\", df.shape)\n",
    "\n",
    "# Sort by Sender_ID and Timestamp for sequential analysis\n",
    "df = df.sort_values(['Sender_ID', 'Timestamp']).reset_index(drop=True)\n"
   ]
  },
  {
   "cell_type": "code",
   "execution_count": 7,
   "id": "17a0f375-7c3d-4f57-be95-d7d035119741",
   "metadata": {},
   "outputs": [],
   "source": [
    "# 1. Transaction Frequency (count of transactions per sender in last hour)\n",
    "# Use 'on' parameter with a different column to count occurrences\n",
    "rolling_counts = df.groupby('Sender_ID').rolling('1h', on='Timestamp')['Amount'].count().reset_index()\n",
    "df['Rolling_Count_1h'] = rolling_counts['Amount']"
   ]
  },
  {
   "cell_type": "code",
   "execution_count": 8,
   "id": "9e4e7c9a-b9b8-4efa-8ece-94d301044548",
   "metadata": {},
   "outputs": [],
   "source": [
    "# 2. Time Delta (time between consecutive transactions for same sender)\n",
    "df['Time_Delta'] = df.groupby('Sender_ID')['Timestamp'].diff().dt.total_seconds().fillna(0)\n",
    "# Flag rapid transactions (less than 60 seconds apart)\n",
    "df['Rapid_Transaction'] = (df['Time_Delta'] < 60).astype(int)\n"
   ]
  },
  {
   "cell_type": "code",
   "execution_count": 9,
   "id": "6b30c18c-af4e-4f25-981d-d148b120c120",
   "metadata": {},
   "outputs": [],
   "source": [
    "# 3. Amount Statistics (per sender)\n",
    "amount_stats = df.groupby('Sender_ID')['Amount'].agg(['mean', 'max', 'min']).reset_index()\n",
    "amount_stats.columns = ['Sender_ID', 'Avg_Amount', 'Max_Amount', 'Min_Amount']\n",
    "df = df.merge(amount_stats, on='Sender_ID', how='left')"
   ]
  },
  {
   "cell_type": "code",
   "execution_count": 10,
   "id": "96815227-e4e1-4bd5-9a70-8fde783517e4",
   "metadata": {},
   "outputs": [],
   "source": [
    "# 4. Location Consistency (flag unrealistic location changes)\n",
    "df['Prev_Location'] = df.groupby('Sender_ID')['Location'].shift(1)\n",
    "df['Location_Change'] = (df['Location'] != df['Prev_Location']).astype(int) & (df['Time_Delta'] < 300)  # 5 mins\n",
    "df['Location_Change'] = df['Location_Change'].fillna(0)  # Fill NaN for first transaction"
   ]
  },
  {
   "cell_type": "code",
   "execution_count": 11,
   "id": "dfb888be-9337-46a9-a965-894dd728a028",
   "metadata": {},
   "outputs": [],
   "source": [
    "# 5. Device Usage (count unique devices per sender)\n",
    "device_counts = df.groupby('Sender_ID')['Device_ID'].nunique().reset_index()\n",
    "device_counts.columns = ['Sender_ID', 'Unique_Devices']\n",
    "df = df.merge(device_counts, on='Sender_ID', how='left')"
   ]
  },
  {
   "cell_type": "code",
   "execution_count": 12,
   "id": "227f4c36-6f2c-405a-9295-faf0407ebd2f",
   "metadata": {},
   "outputs": [
    {
     "name": "stderr",
     "output_type": "stream",
     "text": [
      "C:\\Users\\G_BOOTS\\AppData\\Local\\Temp\\ipykernel_10720\\812245241.py:2: DeprecationWarning: DataFrameGroupBy.apply operated on the grouping columns. This behavior is deprecated, and in a future version of pandas the grouping columns will be excluded from the operation. Either pass `include_groups=False` to exclude the groupings or explicitly select the grouping columns after groupby to silence this warning.\n",
      "  send_money_ratio = df.groupby('Sender_ID').apply(\n"
     ]
    }
   ],
   "source": [
    "# 6. Transaction Type Ratio (proportion of 'Send Money' per sender)\n",
    "send_money_ratio = df.groupby('Sender_ID').apply(\n",
    "    lambda x: (x['Transaction_Type'] == 'Send Money').mean()\n",
    ").reset_index()\n",
    "send_money_ratio.columns = ['Sender_ID', 'Send_Money_Ratio']\n",
    "df = df.merge(send_money_ratio, on='Sender_ID', how='left')"
   ]
  },
  {
   "cell_type": "code",
   "execution_count": 13,
   "id": "4fdd4892-6ee5-41b0-a7cc-c841125bdeb1",
   "metadata": {},
   "outputs": [],
   "source": [
    "# 7. Hour of Day (extract hour from timestamp)\n",
    "df['Hour_of_Day'] = df['Timestamp'].dt.hour\n",
    "\n",
    "# Drop temporary columns\n",
    "df = df.drop(columns=['Prev_Location'])"
   ]
  },
  {
   "cell_type": "code",
   "execution_count": 14,
   "id": "3b9b1c1e-7e8b-4308-8697-96eac69cc65c",
   "metadata": {},
   "outputs": [
    {
     "name": "stdout",
     "output_type": "stream",
     "text": [
      "\n",
      "Dataset with Engineered Features Preview:\n",
      "            Timestamp   Sender_ID   Receiver_ID  Amount Location  \\\n",
      "0 2025-02-08 17:48:37    25474373  254756463482     910  Eldoret   \n",
      "1 2025-03-28 11:00:00   254799416  254728125617    5138   Nakuru   \n",
      "2 2025-03-01 22:05:16  2547108503  254798025182     351  Mombasa   \n",
      "3 2025-03-03 12:11:54  2547116938  254712244038    7021  Mombasa   \n",
      "4 2025-02-13 14:24:36  2547188623  254780511400    9141   Kisumu   \n",
      "\n",
      "                              Device_ID Transaction_Type  Fraud_Label  \\\n",
      "0  52773608-4352-428d-8695-e2c17e1e941d         Withdraw            0   \n",
      "1  717c7d92-6128-480d-9767-5925e58b69d4       Send Money            0   \n",
      "2  91830e71-7057-4f07-ac63-0e84c0ec53d8        Buy Goods            0   \n",
      "3  6a0263fc-d763-4cb8-90d6-b4e1f1ae0bac       Send Money            0   \n",
      "4  d68b2c5c-7453-421f-a42a-4a7e8326b74d         Pay Bill            0   \n",
      "\n",
      "   Rolling_Count_1h  Time_Delta  Rapid_Transaction  Avg_Amount  Max_Amount  \\\n",
      "0               1.0         0.0                  1       910.0         910   \n",
      "1               1.0         0.0                  1      5138.0        5138   \n",
      "2               1.0         0.0                  1       351.0         351   \n",
      "3               1.0         0.0                  1      7021.0        7021   \n",
      "4               1.0         0.0                  1      9141.0        9141   \n",
      "\n",
      "   Min_Amount  Location_Change  Unique_Devices  Send_Money_Ratio  Hour_of_Day  \n",
      "0         910             True               1               0.0           17  \n",
      "1        5138             True               1               1.0           11  \n",
      "2         351             True               1               0.0           22  \n",
      "3        7021             True               1               1.0           12  \n",
      "4        9141             True               1               0.0           14  \n",
      "\n",
      "Feature Info:\n",
      "<class 'pandas.core.frame.DataFrame'>\n",
      "RangeIndex: 1000 entries, 0 to 999\n",
      "Data columns (total 18 columns):\n",
      " #   Column             Non-Null Count  Dtype         \n",
      "---  ------             --------------  -----         \n",
      " 0   Timestamp          1000 non-null   datetime64[ns]\n",
      " 1   Sender_ID          1000 non-null   int64         \n",
      " 2   Receiver_ID        1000 non-null   int64         \n",
      " 3   Amount             1000 non-null   int64         \n",
      " 4   Location           1000 non-null   object        \n",
      " 5   Device_ID          1000 non-null   object        \n",
      " 6   Transaction_Type   1000 non-null   object        \n",
      " 7   Fraud_Label        1000 non-null   int64         \n",
      " 8   Rolling_Count_1h   1000 non-null   float64       \n",
      " 9   Time_Delta         1000 non-null   float64       \n",
      " 10  Rapid_Transaction  1000 non-null   int32         \n",
      " 11  Avg_Amount         1000 non-null   float64       \n",
      " 12  Max_Amount         1000 non-null   int64         \n",
      " 13  Min_Amount         1000 non-null   int64         \n",
      " 14  Location_Change    1000 non-null   bool          \n",
      " 15  Unique_Devices     1000 non-null   int64         \n",
      " 16  Send_Money_Ratio   1000 non-null   float64       \n",
      " 17  Hour_of_Day        1000 non-null   int32         \n",
      "dtypes: bool(1), datetime64[ns](1), float64(4), int32(2), int64(7), object(3)\n",
      "memory usage: 126.1+ KB\n",
      "None\n"
     ]
    }
   ],
   "source": [
    "# Preview the engineered features\n",
    "print(\"\\nDataset with Engineered Features Preview:\")\n",
    "print(df.head())\n",
    "print(\"\\nFeature Info:\")\n",
    "print(df.info())"
   ]
  },
  {
   "cell_type": "code",
   "execution_count": 15,
   "id": "2940a7d4-9a93-4c21-94bb-cba9dc2670bb",
   "metadata": {},
   "outputs": [
    {
     "name": "stdout",
     "output_type": "stream",
     "text": [
      "Enhanced dataset saved as 'mobile_money_features.csv'\n"
     ]
    }
   ],
   "source": [
    "# Save the enhanced dataset\n",
    "df.to_csv('mobile_money_features.csv', index=False)\n",
    "print(\"Enhanced dataset saved as 'mobile_money_features.csv'\")"
   ]
  },
  {
   "cell_type": "code",
   "execution_count": null,
   "id": "b1952710-f90b-4032-b555-72c08b177052",
   "metadata": {},
   "outputs": [],
   "source": []
  },
  {
   "cell_type": "code",
   "execution_count": null,
   "id": "87c2a7c0-9d96-4fd4-ac34-4806f52dcb2a",
   "metadata": {},
   "outputs": [],
   "source": []
  }
 ],
 "metadata": {
  "kernelspec": {
   "display_name": "Python 3 (ipykernel)",
   "language": "python",
   "name": "python3"
  },
  "language_info": {
   "codemirror_mode": {
    "name": "ipython",
    "version": 3
   },
   "file_extension": ".py",
   "mimetype": "text/x-python",
   "name": "python",
   "nbconvert_exporter": "python",
   "pygments_lexer": "ipython3",
   "version": "3.12.4"
  }
 },
 "nbformat": 4,
 "nbformat_minor": 5
}
