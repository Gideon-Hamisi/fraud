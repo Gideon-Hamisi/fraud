{
 "cells": [
  {
   "cell_type": "code",
   "execution_count": 1,
   "id": "96c6abda-fee6-4db9-b280-35e62c3048a1",
   "metadata": {
    "scrolled": true
   },
   "outputs": [],
   "source": [
    "from faker import Faker\n",
    "import pandas as pd\n",
    "import numpy as np\n",
    "from datetime import datetime, timedelta"
   ]
  },
  {
   "cell_type": "code",
   "execution_count": 2,
   "id": "c810194c-801a-4b55-9578-7fba1c0aa221",
   "metadata": {},
   "outputs": [],
   "source": [
    "# Initialize Faker with a Kenyan locale approximation\n",
    "fake = Faker('en_US')  # No specific Kenyan locale, so we tweak manually\n",
    "np.random.seed(42)  # For reproducibility"
   ]
  },
  {
   "cell_type": "code",
   "execution_count": 3,
   "id": "52d0bbab-95fb-4086-ba4c-24c0c1967536",
   "metadata": {},
   "outputs": [],
   "source": [
    "# Define Kenyan locations and transaction types\n",
    "kenyan_locations = ['Nairobi', 'Mombasa', 'Kisumu', 'Eldoret', 'Nakuru']\n",
    "transaction_types = ['Send Money', 'Pay Bill', 'Withdraw', 'Buy Goods']\n"
   ]
  },
  {
   "cell_type": "code",
   "execution_count": 4,
   "id": "f2d3485d-7854-42a4-83ce-e8b320c715bd",
   "metadata": {},
   "outputs": [],
   "source": [
    "# Generate 1,000 transactions\n",
    "data = {\n",
    "    'Timestamp': [fake.date_time_this_year() for _ in range(1000)],\n",
    "    'Sender_ID': [f\"2547{fake.unique.random_number(digits=8)}\" for _ in range(1000)],  # Kenyan phone format\n",
    "    'Receiver_ID': [f\"2547{fake.unique.random_number(digits=8)}\" for _ in range(1000)],\n",
    "    'Amount': [np.random.randint(50, 10000) for _ in range(1000)],  # KES 50 to 10,000\n",
    "    'Location': [np.random.choice(kenyan_locations) for _ in range(1000)],\n",
    "    'Device_ID': [fake.uuid4() for _ in range(1000)],\n",
    "    'Transaction_Type': [np.random.choice(transaction_types) for _ in range(1000)],\n",
    "}"
   ]
  },
  {
   "cell_type": "code",
   "execution_count": 5,
   "id": "464067fb-e4b7-4372-9e66-da4b087e259e",
   "metadata": {},
   "outputs": [],
   "source": [
    "# Create DataFrame\n",
    "df = pd.DataFrame(data)\n",
    "\n",
    "# Sort by timestamp for realism\n",
    "df = df.sort_values('Timestamp').reset_index(drop=True)\n"
   ]
  },
  {
   "cell_type": "code",
   "execution_count": 6,
   "id": "9de10488-706a-4dd9-9e00-d283c6cb9833",
   "metadata": {},
   "outputs": [
    {
     "name": "stdout",
     "output_type": "stream",
     "text": [
      "Initial Dataset Preview:\n",
      "            Timestamp     Sender_ID   Receiver_ID  Amount Location  \\\n",
      "0 2025-01-01 00:08:02   25471645902  254725507820    7106   Kisumu   \n",
      "1 2025-01-01 01:49:27  254761195883  254719710033    6470  Nairobi   \n",
      "2 2025-01-01 01:53:24  254746310147  254773367924    7031   Kisumu   \n",
      "3 2025-01-01 04:22:48  254736124581   25471972739    1116   Kisumu   \n",
      "4 2025-01-01 06:34:10  254726227469  254772252369    4827   Kisumu   \n",
      "\n",
      "                              Device_ID Transaction_Type  \n",
      "0  92ba5452-ae93-4a42-bc22-1ae069f5af76       Send Money  \n",
      "1  469c96ef-9390-45bb-8ac6-ad448d44982c         Withdraw  \n",
      "2  47b1cdaf-5cf2-4339-9e29-70f086628510         Withdraw  \n",
      "3  879efc8a-5474-4712-b37b-7514e167dbe5         Pay Bill  \n",
      "4  1e5a1400-f5da-4593-a620-66015e5f445c         Withdraw  \n"
     ]
    }
   ],
   "source": [
    "# Preview initial data\n",
    "print(\"Initial Dataset Preview:\")\n",
    "print(df.head())\n"
   ]
  },
  {
   "cell_type": "code",
   "execution_count": 7,
   "id": "b7a9e90a-ba67-4293-a466-d5088cda40d4",
   "metadata": {},
   "outputs": [],
   "source": [
    "# Bias 30% of transactions to month-end (salary disbursement spike)\n",
    "month_end = pd.date_range(start='2025-03-28', end='2025-03-30', freq='min')\n",
    "df.loc[:300, 'Timestamp'] = [np.random.choice(month_end) for _ in range(301)]  # 301 to match slice size\n"
   ]
  },
  {
   "cell_type": "code",
   "execution_count": 8,
   "id": "8dc32652-5944-46f7-b537-05dd65004d28",
   "metadata": {},
   "outputs": [],
   "source": [
    "# Increase 'Send Money' frequency to mimic M-Pesa usage\n",
    "df.loc[:500, 'Transaction_Type'] = 'Send Money'"
   ]
  },
  {
   "cell_type": "code",
   "execution_count": 9,
   "id": "a5fc6178-e11a-488d-9120-379de8df43b2",
   "metadata": {},
   "outputs": [],
   "source": [
    "# Inject fraudulent transactions (rapid small transfers)\n",
    "fraud_sender = \"254799999999\"\n",
    "fraud_times = [datetime(2025, 3, 15, 10, i) for i in range(0, 10)]  # 10 mins apart\n",
    "fraud_data = {\n",
    "    'Timestamp': fraud_times,\n",
    "    'Sender_ID': [fraud_sender] * 10,\n",
    "    'Receiver_ID': [f\"2547{fake.unique.random_number(digits=8)}\" for _ in range(10)],\n",
    "    'Amount': [np.random.randint(50, 200) for _ in range(10)],\n",
    "    'Location': ['Nairobi'] * 10,\n",
    "    'Device_ID': [fake.uuid4()] * 10,\n",
    "    'Transaction_Type': ['Send Money'] * 10,\n",
    "}\n",
    "fraud_df = pd.DataFrame(fraud_data)\n"
   ]
  },
  {
   "cell_type": "code",
   "execution_count": null,
   "id": "775944d0-6f23-4c84-99f2-6a15a42125d6",
   "metadata": {},
   "outputs": [],
   "source": [
    "# Combine base and fraud data\n",
    "df = pd.concat([df, fraud_df], ignore_index=True)\n"
   ]
  },
  {
   "cell_type": "code",
   "execution_count": 10,
   "id": "0709510e-47b2-4b92-a391-beca2c0617e6",
   "metadata": {},
   "outputs": [],
   "source": [
    "# Add fraud labels\n",
    "df['Fraud_Label'] = 0\n",
    "df.loc[df['Sender_ID'] == fraud_sender, 'Fraud_Label'] = 1\n",
    "\n"
   ]
  },
  {
   "cell_type": "code",
   "execution_count": 11,
   "id": "4bf43239-427e-47c3-b6fb-aea5ef7323d0",
   "metadata": {},
   "outputs": [
    {
     "name": "stdout",
     "output_type": "stream",
     "text": [
      "Base dataset saved as 'mobile_money_transactions.csv'\n",
      "Total transactions: 1000, Fraudulent: 0\n"
     ]
    }
   ],
   "source": [
    "# Save the base dataset\n",
    "df.to_csv('mobile_money_transactions.csv', index=False)\n",
    "print(\"Base dataset saved as 'mobile_money_transactions.csv'\")\n",
    "print(f\"Total transactions: {len(df)}, Fraudulent: {df['Fraud_Label'].sum()}\")\n"
   ]
  }
 ],
 "metadata": {
  "kernelspec": {
   "display_name": "Python 3 (ipykernel)",
   "language": "python",
   "name": "python3"
  },
  "language_info": {
   "codemirror_mode": {
    "name": "ipython",
    "version": 3
   },
   "file_extension": ".py",
   "mimetype": "text/x-python",
   "name": "python",
   "nbconvert_exporter": "python",
   "pygments_lexer": "ipython3",
   "version": "3.12.4"
  }
 },
 "nbformat": 4,
 "nbformat_minor": 5
}
